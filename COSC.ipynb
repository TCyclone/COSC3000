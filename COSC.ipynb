{
 "cells": [
  {
   "cell_type": "code",
   "execution_count": 31,
   "id": "300d9115",
   "metadata": {
    "scrolled": false
   },
   "outputs": [
    {
     "data": {
      "application/vnd.jupyter.widget-view+json": {
       "model_id": "c9b6f18eddcd4e7a8a527747dd5ae353",
       "version_major": 2,
       "version_minor": 0
      },
      "text/plain": [
       "SelectionSlider(continuous_update=False, description='Time:', index=38, options=('2345', '2330', '2315', '2300…"
      ]
     },
     "metadata": {},
     "output_type": "display_data"
    },
    {
     "data": {
      "application/vnd.jupyter.widget-view+json": {
       "model_id": "f094e91faadc4055b1eea3113cdb6ce8",
       "version_major": 2,
       "version_minor": 0
      },
      "text/plain": [
       "Label(value='Showing profile at time (in 24hr format): 2245')"
      ]
     },
     "metadata": {},
     "output_type": "display_data"
    },
    {
     "data": {
      "application/vnd.jupyter.widget-view+json": {
       "model_id": "52625a62b36a4e9685d61c7923de4ec4",
       "version_major": 2,
       "version_minor": 0
      },
      "text/plain": [
       "DeckGLWidget(carto_key=None, custom_libraries=[], google_maps_key=None, json_input='{\"initialViewState\": {\"bea…"
      ]
     },
     "metadata": {},
     "output_type": "display_data"
    }
   ],
   "source": [
    "import pydeck as pdk\n",
    "import pandas as pd\n",
    "import json\n",
    "import ipywidgets as widgets\n",
    "import os\n",
    "import requests\n",
    "from IPython.display import clear_output\n",
    "\n",
    "# MAPBOX_API_KEY = \"pk.eyJ1IjoidGN5Y2xvbmUiLCJhIjoiY2wwYWx5aW14MG9pdjNjbW8zdmE0dGJkNCJ9.u7D4yFZRHo0PIT45jRuQsA\"\n",
    "\n",
    "BUILDING_LOCATION_DATA = \"https://raw.githubusercontent.com/TCyclone/COSC3000/main/Locations.csv\"\n",
    "BUILDING_LOAD_DATA = \"https://raw.githubusercontent.com/TCyclone/PowerData/main/\"\n",
    "\n",
    "dfLoad = pd.DataFrame(columns=['Time'])\n",
    "\n",
    "time = []\n",
    "start = 2400\n",
    "for i in range(96):\n",
    "    if i%4 == 0:\n",
    "        start = start - 55\n",
    "        time.append(start)\n",
    "    else:\n",
    "        start = start - 15\n",
    "        time.append(start)\n",
    "        \n",
    "dfLoad['Time'] = time\n",
    "\n",
    "# put branch and node results into dataframe\n",
    "dfLocation = pd.read_csv(BUILDING_LOCATION_DATA)\n",
    "\n",
    "files = ['BioEngineeringPV.csv', 'BSB_BuildingPV.csv', 'BSB_LibraryPV.csv', 'CenterHall.csv', 'CSC_BuildingPV.csv', 'CUP_PV.csv', 'EastCampus.csv', 'EBU2_A_PV.csv', 'EBU2_B_PV.csv', 'ElectricShopPV.csv', 'GalbraithHall.csv', 'GarageFleetsPV.csv', 'GeiselLibrary.csv', 'Gilman.csv', 'GilmanParkingPV.csv', 'Hopkins.csv', 'HopkinsParkingPV.csv', 'KeelingA_PV.csv', 'KeelingB_PV.csv', 'KyoceraSkylinePV.csv', 'LeichtagPV.csv', 'Mandeville.csv', 'MayerHallPV.csv', 'MESOM_PV.csv', 'MusicBuilding.csv', 'OslerParkingPV.csv', 'OttersonHall.csv', 'PepperCanyon.csv', 'PoliceDepartment.csv', 'PowellPV.csv', 'PriceCenterA_PV.csv', 'PriceCenterB_PV.csv', 'Processed.csv', 'ProcessedData.csv', 'RadyHall.csv', 'RobinsonHall.csv', 'SDSC_PV.csv', 'SME_SolarPV.csv', 'SocialScience.csv', 'StephenBirchPV.csv', 'StudentServices.csv', 'TradeStreetPV.csv', 'BatteryStorage.csv']\n",
    "for filename in files:\n",
    "    power = []\n",
    "    i = 0\n",
    "    df = pd.read_csv(os.path.join(BUILDING_LOAD_DATA, filename))\n",
    "    for i in range(96):\n",
    "        power.append(df.at[i,'RealPower'])\n",
    "    dfLoad[filename] = power\n",
    "\n",
    "powers = []\n",
    "coloursR = []\n",
    "coloursG = []\n",
    "coloursB = []\n",
    "for i in range(96):\n",
    "    for j in dfLocation['Location']:\n",
    "        powers.append(dfLoad.at[i,j])\n",
    "    dfLocation[\"time_\" + str(dfLoad.at[i,'Time'])] = powers\n",
    "    powers = []\n",
    "    \n",
    "for j in dfLocation['Location']:\n",
    "    if j[-5].islower():\n",
    "        coloursR.append(255)\n",
    "        coloursG.append(0)\n",
    "    else:\n",
    "        coloursG.append(255)\n",
    "        coloursR.append(0)\n",
    "dfLocation[\"coloursR\"] = coloursR\n",
    "dfLocation[\"coloursG\"] = coloursG\n",
    "\n",
    "caption = widgets.Label(value='Initital time')\n",
    "\n",
    "timeWid = widgets.SelectionSlider(\n",
    "    options = ['2345', '2330', '2315', '2300', '2245', '2230', '2215', '2200', '2145', '2130', '2115', '2100', '2045', '2030', '2015', '2000', '1945', '1930', '1915', '1900', '1845', '1830', '1815', '1800', '1745', '1730', '1715', '1700', '1645', '1630', '1615', '1600', '1545', '1530', '1515', '1500', '1445', '1430', '1415', '1400', '1345', '1330', '1315', '1300', '1245', '1230', '1215', '1200', '1145', '1130', '1115', '1100', '1045', '1030', '1015', '1000', '945', '930', '915', '900', '845', '830', '815', '800', '745', '730', '715', '700', '645', '630', '615', '600', '545', '530', '515', '500', '445', '430', '415', '400', '345', '330', '315', '300', '245', '230', '215', '200', '145', '130', '115', '100', '45', '30', '15'],\n",
    "    description='Time:',\n",
    "    disabled=False,\n",
    "    continuous_update=False,\n",
    "    orientation='horizontal',\n",
    "    readout=True\n",
    ")\n",
    "\n",
    "def on_drag_end(change):\n",
    "    clear_output(wait=True)\n",
    "    display(timeWid, caption)\n",
    "    newTime = \"time_\" + str(change['new'])\n",
    "    times = []\n",
    "    for i in range(41):\n",
    "        times.append(dfLocation.at[i,newTime])\n",
    "    dfLocation[\"Time\"] = times\n",
    "    caption.value = 'Showing profile at time (in 24hr format): ' + str(change['new'])\n",
    "    r = make_renderer(dfLocation)\n",
    "    display(r.show())\n",
    "#     r.to_html(\"column_layer.html\")\n",
    "\n",
    "timeWid.observe(on_drag_end, names='value')\n",
    "display(timeWid, caption)\n",
    "\n",
    "def make_renderer(dfLocation):\n",
    "    \"\"\"Creates the pydeck visualization for rendering\"\"\"\n",
    "    view = pdk.ViewState(latitude=32.87788317, longitude=-117.2372732, bearing=45, pitch=50, zoom=15,)\n",
    "\n",
    "    view.pitch = 75\n",
    "    view.bearing = 60\n",
    "\n",
    "    column_layer = pdk.Layer(\n",
    "        \"ColumnLayer\",\n",
    "        data=dfLocation,\n",
    "        get_position=[\"lng\", \"lat\"],\n",
    "        get_elevation=\"Time\",\n",
    "        elevation_scale=1,\n",
    "        radius=20,\n",
    "        get_fill_color=[\"coloursR\", \"coloursG\", \"0\", 200],\n",
    "        pickable=True,\n",
    "        auto_highlight=True,\n",
    "    )\n",
    "\n",
    "    tooltip = {\n",
    "        \"html\": \"<b>{Location}</b>, load/generation: <b>{Time} MW</b> \",\n",
    "        \"style\": {\"background\": \"grey\", \"color\": \"white\", \"font-family\": '\"Helvetica Neue\", Arial', \"z-index\": \"10000\"},\n",
    "    }\n",
    "    return pdk.Deck(column_layer, initial_view_state=view, tooltip=tooltip, map_provider=\"mapbox\", map_style=pdk.map_styles.SATELLITE)\n",
    "\n",
    "\n",
    "r = None"
   ]
  },
  {
   "cell_type": "code",
   "execution_count": 32,
   "id": "6c4c4fcb",
   "metadata": {
    "scrolled": false
   },
   "outputs": [
    {
     "data": {
      "application/vnd.jupyter.widget-view+json": {
       "model_id": "dfb16f2d4d544834a1e58956e5683bf5",
       "version_major": 2,
       "version_minor": 0
      },
      "text/plain": [
       "SelectionSlider(continuous_update=False, description='Time:', index=44, options=('2345', '2330', '2315', '2300…"
      ]
     },
     "metadata": {},
     "output_type": "display_data"
    },
    {
     "data": {
      "application/vnd.jupyter.widget-view+json": {
       "model_id": "ad6d0eab360f4562a2abd124db05913a",
       "version_major": 2,
       "version_minor": 0
      },
      "text/plain": [
       "Label(value='Showing profile at time (in 24hr format): 1815')"
      ]
     },
     "metadata": {},
     "output_type": "display_data"
    },
    {
     "data": {
      "application/vnd.jupyter.widget-view+json": {
       "model_id": "77d9b16edda5436c9b8a4fa076ed52a8",
       "version_major": 2,
       "version_minor": 0
      },
      "text/plain": [
       "DeckGLWidget(carto_key=None, custom_libraries=[], google_maps_key=None, json_input='{\"initialViewState\": {\"bea…"
      ]
     },
     "metadata": {},
     "output_type": "display_data"
    }
   ],
   "source": [
    "import pydeck as pdk\n",
    "import pandas as pd\n",
    "import json\n",
    "import ipywidgets as widgets\n",
    "import os\n",
    "import requests\n",
    "\n",
    "BUILDING_LOCATION_DATA = \"https://raw.githubusercontent.com/TCyclone/COSC3000/main/LocationsBatt.csv\"\n",
    "BUILDING_LOAD_DATA = \"https://raw.githubusercontent.com/TCyclone/PowerData/main/\"\n",
    "\n",
    "dfLoad = pd.DataFrame(columns=['Time'])\n",
    "\n",
    "time = []\n",
    "start = 2400\n",
    "for i in range(96):\n",
    "    if i%4 == 0:\n",
    "        start = start - 55\n",
    "        time.append(start)\n",
    "    else:\n",
    "        start = start - 15\n",
    "        time.append(start)\n",
    "        \n",
    "dfLoad['Time'] = time\n",
    "\n",
    "# put branch and node results into dataframe\n",
    "dfLocation = pd.read_csv(BUILDING_LOCATION_DATA)\n",
    "\n",
    "files = ['BioEngineeringPV.csv', 'BSB_BuildingPV.csv', 'BSB_LibraryPV.csv', 'CenterHall.csv', 'CSC_BuildingPV.csv', 'CUP_PV.csv', 'EastCampus.csv', 'EBU2_A_PV.csv', 'EBU2_B_PV.csv', 'ElectricShopPV.csv', 'GalbraithHall.csv', 'GarageFleetsPV.csv', 'GeiselLibrary.csv', 'Gilman.csv', 'GilmanParkingPV.csv', 'Hopkins.csv', 'HopkinsParkingPV.csv', 'KeelingA_PV.csv', 'KeelingB_PV.csv', 'KyoceraSkylinePV.csv', 'LeichtagPV.csv', 'Mandeville.csv', 'MayerHallPV.csv', 'MESOM_PV.csv', 'MusicBuilding.csv', 'OslerParkingPV.csv', 'OttersonHall.csv', 'PepperCanyon.csv', 'PoliceDepartment.csv', 'PowellPV.csv', 'PriceCenterA_PV.csv', 'PriceCenterB_PV.csv', 'Processed.csv', 'ProcessedData.csv', 'RadyHall.csv', 'RobinsonHall.csv', 'SDSC_PV.csv', 'SME_SolarPV.csv', 'SocialScience.csv', 'StephenBirchPV.csv', 'StudentServices.csv', 'TradeStreetPV.csv', 'BatteryStorage.csv', 'NetDemand.csv']\n",
    "for filename in files:\n",
    "    power = []\n",
    "    i = 0\n",
    "    df = pd.read_csv(os.path.join(BUILDING_LOAD_DATA, filename))\n",
    "    for i in range(96):\n",
    "        power.append(df.at[i,'RealPower'])\n",
    "    dfLoad[filename] = power\n",
    "\n",
    "powers = []\n",
    "coloursR = []\n",
    "coloursG = []\n",
    "coloursB = []\n",
    "for i in range(96):\n",
    "    for j in dfLocation['Location']:\n",
    "        powers.append(dfLoad.at[i,j])\n",
    "    dfLocation[\"time_\" + str(dfLoad.at[i,'Time'])] = powers\n",
    "    powers = []\n",
    "    \n",
    "for j in dfLocation['Location']:\n",
    "    if j[-5].islower():\n",
    "        coloursR.append(255)\n",
    "        coloursG.append(0)\n",
    "    else:\n",
    "        coloursG.append(255)\n",
    "        coloursR.append(0)\n",
    "dfLocation[\"coloursR\"] = coloursR\n",
    "dfLocation[\"coloursG\"] = coloursG\n",
    "\n",
    "GREEN_RGB = [0, 255, 0, 200]\n",
    "RED_RGB = [255, 0, 0, 200]\n",
    "\n",
    "caption = widgets.Label(value='Initital time')\n",
    "\n",
    "timeWid = widgets.SelectionSlider(\n",
    "    options = ['2345', '2330', '2315', '2300', '2245', '2230', '2215', '2200', '2145', '2130', '2115', '2100', '2045', '2030', '2015', '2000', '1945', '1930', '1915', '1900', '1845', '1830', '1815', '1800', '1745', '1730', '1715', '1700', '1645', '1630', '1615', '1600', '1545', '1530', '1515', '1500', '1445', '1430', '1415', '1400', '1345', '1330', '1315', '1300', '1245', '1230', '1215', '1200', '1145', '1130', '1115', '1100', '1045', '1030', '1015', '1000', '945', '930', '915', '900', '845', '830', '815', '800', '745', '730', '715', '700', '645', '630', '615', '600', '545', '530', '515', '500', '445', '430', '415', '400', '345', '330', '315', '300', '245', '230', '215', '200', '145', '130', '115', '100', '45', '30', '15'],\n",
    "    description='Time:',\n",
    "    disabled=False,\n",
    "    continuous_update=False,\n",
    "    orientation='horizontal',\n",
    "    readout=True\n",
    ")\n",
    "\n",
    "def on_drag_end(change, notebook_display = False):\n",
    "    clear_output(wait=True)\n",
    "    display(timeWid, caption)\n",
    "    newTime = \"time_\" + str(change['new'])\n",
    "    times = []\n",
    "    for i in range(42):\n",
    "        times.append(dfLocation.at[i,newTime])\n",
    "    dfLocation[\"Time\"] = times\n",
    "    caption.value = 'Showing profile at time (in 24hr format): ' + str(change['new'])\n",
    "    r = make_renderer(dfLocation)\n",
    "    display(r.show())\n",
    "#     r.to_html(\"arc_layer.html\")\n",
    "    \n",
    "timeWid.observe(on_drag_end, names='value')\n",
    "display(timeWid, caption)\n",
    "\n",
    "def make_renderer(dfLocation):\n",
    "    \"\"\"Creates the pydeck visualization for rendering\"\"\"\n",
    "    view = pdk.ViewState(latitude=32.87788317, longitude=-117.2372732, bearing=45, pitch=50, zoom=15,)\n",
    "\n",
    "    arc_layer = pdk.Layer(\n",
    "        \"ArcLayer\",\n",
    "        data=dfLocation,\n",
    "        get_width=\"time_1300/12\",\n",
    "        get_source_position=[\"lngSource\", \"latSource\"],\n",
    "        get_target_position=[\"lngTarget\", \"latTarget\"],\n",
    "        get_tilt=15,\n",
    "        get_source_color=GREEN_RGB,\n",
    "        get_target_color=RED_RGB,\n",
    "        pickable=True,\n",
    "        auto_highlight=True,\n",
    "    )\n",
    "\n",
    "    tooltip = {\n",
    "        \"html\": \"<b>{Location}</b>, load/generation: <b>{Time} MW</b> \",\n",
    "        \"style\": {\"background\": \"grey\", \"color\": \"white\", \"font-family\": '\"Helvetica Neue\", Arial', \"z-index\": \"10000\"},\n",
    "    }\n",
    "    return pdk.Deck(arc_layer, initial_view_state=view, tooltip=tooltip)\n",
    "\n",
    "\n",
    "r = None"
   ]
  },
  {
   "cell_type": "code",
   "execution_count": null,
   "id": "2bfa3096",
   "metadata": {},
   "outputs": [],
   "source": []
  }
 ],
 "metadata": {
  "kernelspec": {
   "display_name": "Python 3 (ipykernel)",
   "language": "python",
   "name": "python3"
  },
  "language_info": {
   "codemirror_mode": {
    "name": "ipython",
    "version": 3
   },
   "file_extension": ".py",
   "mimetype": "text/x-python",
   "name": "python",
   "nbconvert_exporter": "python",
   "pygments_lexer": "ipython3",
   "version": "3.9.7"
  }
 },
 "nbformat": 4,
 "nbformat_minor": 5
}
